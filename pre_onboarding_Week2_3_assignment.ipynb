{
  "cells": [
    {
      "cell_type": "markdown",
      "metadata": {
        "id": "592U6lXs3d2t"
      },
      "source": [
        "# Week2_3 Assignment\n",
        "\n",
        "## [BASIC](#Basic) \n",
        "- **Custom Dataset 클래스를 구현**할 수 있다.\n",
        "- train_dataset, valid_dataset으로 데이터셋을 나눌 수 있다.\n",
        "\n",
        "\n",
        "## [CHALLENGE](#Challenge)\n",
        "- **dynamic padding**을 만드는 `collate_fn`을 구현할 수 있다. \n",
        "- `DataLoader` 클래스를 사용해 **train_dataloaer와 valid_dataloader**를 만들 수 있다.\n",
        "\n",
        "\n",
        "## [ADVANCED](#Advanced)\n",
        "- 기존 코드의 data_iterator를 **data_loader로 대체**해 학습을 실행할 수 있다.\n",
        "\n",
        "### Reference\n",
        "-[DataLoader pytorch official document](https://pytorch.org/docs/stable/data.html#torch.utils.data.DataLoader)   \n",
        "-[collate_fn 설명 영문 블로그](https://androidkt.com/create-dataloader-with-collate_fn-for-variable-length-input-in-pytorch/)   \n",
        "-[dynamic padding 설명 영문 블로그](https://mccormickml.com/2020/07/29/smart-batching-tutorial/#dynamic-padding)   \n"
      ]
    },
    {
      "cell_type": "code",
      "execution_count": 1,
      "metadata": {
        "id": "KSX-wQA1RD1h"
      },
      "outputs": [],
      "source": [
        "import os\n",
        "import sys\n",
        "import pandas as pd\n",
        "import numpy as np \n",
        "import torch\n",
        "import random"
      ]
    },
    {
      "cell_type": "code",
      "execution_count": 2,
      "metadata": {
        "id": "LNd-mYD5k2tb"
      },
      "outputs": [],
      "source": [
        "# seed\n",
        "seed = 7777\n",
        "random.seed(seed)\n",
        "torch.manual_seed(seed)\n",
        "torch.cuda.manual_seed_all(seed)"
      ]
    },
    {
      "cell_type": "code",
      "execution_count": 3,
      "metadata": {
        "id": "gUR6vb3L3d2u",
        "colab": {
          "base_uri": "https://localhost:8080/"
        },
        "outputId": "061c379f-04f7-4b97-d106-255ba62e11e3"
      },
      "outputs": [
        {
          "output_type": "stream",
          "name": "stdout",
          "text": [
            "# available GPUs : 1\n",
            "GPU name : Tesla K80\n",
            "cuda\n"
          ]
        }
      ],
      "source": [
        "# device type\n",
        "if torch.cuda.is_available():\n",
        "    device = torch.device(\"cuda\")\n",
        "    print(f\"# available GPUs : {torch.cuda.device_count()}\")\n",
        "    print(f\"GPU name : {torch.cuda.get_device_name()}\")\n",
        "else:\n",
        "    device = torch.device(\"cpu\")\n",
        "print(device)"
      ]
    },
    {
      "cell_type": "markdown",
      "metadata": {
        "id": "0REKl4EvT9G1"
      },
      "source": [
        "## Basic"
      ]
    },
    {
      "cell_type": "markdown",
      "metadata": {
        "id": "2yeMAUqqk2td"
      },
      "source": [
        "### 데이터 로드 및 결측치 제거 (복습)\n",
        "- 해당 링크에서 `sample_df` 데이터 프레임을 로드하자\n",
        "  - df의 개수는 10,000개이다."
      ]
    },
    {
      "cell_type": "code",
      "source": [
        "!wget https://raw.githubusercontent.com/ChristinaROK/PreOnboarding_AI_assets/e56006adfac42f8a2975db0ebbe60eacbe1c6b11/data/sample_df.csv"
      ],
      "metadata": {
        "id": "-2Ox_QgoIW7m",
        "colab": {
          "base_uri": "https://localhost:8080/"
        },
        "outputId": "9abd5e7c-e16d-4323-899f-813ebc4b17cf"
      },
      "execution_count": 4,
      "outputs": [
        {
          "output_type": "stream",
          "name": "stdout",
          "text": [
            "--2022-03-02 07:50:47--  https://raw.githubusercontent.com/ChristinaROK/PreOnboarding_AI_assets/e56006adfac42f8a2975db0ebbe60eacbe1c6b11/data/sample_df.csv\n",
            "Resolving raw.githubusercontent.com (raw.githubusercontent.com)... 185.199.110.133, 185.199.109.133, 185.199.108.133, ...\n",
            "Connecting to raw.githubusercontent.com (raw.githubusercontent.com)|185.199.110.133|:443... connected.\n",
            "HTTP request sent, awaiting response... 200 OK\n",
            "Length: 971625 (949K) [text/plain]\n",
            "Saving to: ‘sample_df.csv.4’\n",
            "\n",
            "sample_df.csv.4     100%[===================>] 948.85K  --.-KB/s    in 0.06s   \n",
            "\n",
            "2022-03-02 07:50:47 (16.1 MB/s) - ‘sample_df.csv.4’ saved [971625/971625]\n",
            "\n"
          ]
        }
      ]
    },
    {
      "cell_type": "code",
      "source": [
        "sample_df = pd.read_csv('sample_df.csv')"
      ],
      "metadata": {
        "id": "zNHz7RtDIdTa"
      },
      "execution_count": 5,
      "outputs": []
    },
    {
      "cell_type": "code",
      "source": [
        "print(f\"Shape: {sample_df.shape}\\nLabel : {sample_df.label.value_counts()}\")"
      ],
      "metadata": {
        "id": "XZoLAT-_JGdM",
        "colab": {
          "base_uri": "https://localhost:8080/"
        },
        "outputId": "8e0062d0-2aec-491f-80d7-db7049549060"
      },
      "execution_count": 6,
      "outputs": [
        {
          "output_type": "stream",
          "name": "stdout",
          "text": [
            "Shape: (10000, 3)\n",
            "Label : 0    5000\n",
            "1    5000\n",
            "Name: label, dtype: int64\n"
          ]
        }
      ]
    },
    {
      "cell_type": "code",
      "source": [
        "sample_df.head()"
      ],
      "metadata": {
        "colab": {
          "base_uri": "https://localhost:8080/",
          "height": 206
        },
        "id": "JdTDW2VbfGid",
        "outputId": "9f3264cf-b1ca-40f1-cedc-5676bd225121"
      },
      "execution_count": 7,
      "outputs": [
        {
          "output_type": "execute_result",
          "data": {
            "text/html": [
              "\n",
              "  <div id=\"df-5a9dd79f-4021-4003-a002-945722371eb4\">\n",
              "    <div class=\"colab-df-container\">\n",
              "      <div>\n",
              "<style scoped>\n",
              "    .dataframe tbody tr th:only-of-type {\n",
              "        vertical-align: middle;\n",
              "    }\n",
              "\n",
              "    .dataframe tbody tr th {\n",
              "        vertical-align: top;\n",
              "    }\n",
              "\n",
              "    .dataframe thead th {\n",
              "        text-align: right;\n",
              "    }\n",
              "</style>\n",
              "<table border=\"1\" class=\"dataframe\">\n",
              "  <thead>\n",
              "    <tr style=\"text-align: right;\">\n",
              "      <th></th>\n",
              "      <th>id</th>\n",
              "      <th>document</th>\n",
              "      <th>label</th>\n",
              "    </tr>\n",
              "  </thead>\n",
              "  <tbody>\n",
              "    <tr>\n",
              "      <th>0</th>\n",
              "      <td>8525343</td>\n",
              "      <td>나 이거 더빙을 누가하는지 모르고 봤는데 왠지 더빙이 구리더라...더빙이 너무 별로였음.</td>\n",
              "      <td>0</td>\n",
              "    </tr>\n",
              "    <tr>\n",
              "      <th>1</th>\n",
              "      <td>4572888</td>\n",
              "      <td>현암이 소지섭이었으면 좋았겠는데..스토리각색도 좀 깔끔하게...</td>\n",
              "      <td>0</td>\n",
              "    </tr>\n",
              "    <tr>\n",
              "      <th>2</th>\n",
              "      <td>8504845</td>\n",
              "      <td>ㅎㅎㅎ 대단하네 ㅜ,.ㅡ</td>\n",
              "      <td>0</td>\n",
              "    </tr>\n",
              "    <tr>\n",
              "      <th>3</th>\n",
              "      <td>5003367</td>\n",
              "      <td>이거보고 돈날린 기억이...........</td>\n",
              "      <td>0</td>\n",
              "    </tr>\n",
              "    <tr>\n",
              "      <th>4</th>\n",
              "      <td>3015049</td>\n",
              "      <td>한국영화 어쩌다 이지경까지 ㅠㅠ</td>\n",
              "      <td>0</td>\n",
              "    </tr>\n",
              "  </tbody>\n",
              "</table>\n",
              "</div>\n",
              "      <button class=\"colab-df-convert\" onclick=\"convertToInteractive('df-5a9dd79f-4021-4003-a002-945722371eb4')\"\n",
              "              title=\"Convert this dataframe to an interactive table.\"\n",
              "              style=\"display:none;\">\n",
              "        \n",
              "  <svg xmlns=\"http://www.w3.org/2000/svg\" height=\"24px\"viewBox=\"0 0 24 24\"\n",
              "       width=\"24px\">\n",
              "    <path d=\"M0 0h24v24H0V0z\" fill=\"none\"/>\n",
              "    <path d=\"M18.56 5.44l.94 2.06.94-2.06 2.06-.94-2.06-.94-.94-2.06-.94 2.06-2.06.94zm-11 1L8.5 8.5l.94-2.06 2.06-.94-2.06-.94L8.5 2.5l-.94 2.06-2.06.94zm10 10l.94 2.06.94-2.06 2.06-.94-2.06-.94-.94-2.06-.94 2.06-2.06.94z\"/><path d=\"M17.41 7.96l-1.37-1.37c-.4-.4-.92-.59-1.43-.59-.52 0-1.04.2-1.43.59L10.3 9.45l-7.72 7.72c-.78.78-.78 2.05 0 2.83L4 21.41c.39.39.9.59 1.41.59.51 0 1.02-.2 1.41-.59l7.78-7.78 2.81-2.81c.8-.78.8-2.07 0-2.86zM5.41 20L4 18.59l7.72-7.72 1.47 1.35L5.41 20z\"/>\n",
              "  </svg>\n",
              "      </button>\n",
              "      \n",
              "  <style>\n",
              "    .colab-df-container {\n",
              "      display:flex;\n",
              "      flex-wrap:wrap;\n",
              "      gap: 12px;\n",
              "    }\n",
              "\n",
              "    .colab-df-convert {\n",
              "      background-color: #E8F0FE;\n",
              "      border: none;\n",
              "      border-radius: 50%;\n",
              "      cursor: pointer;\n",
              "      display: none;\n",
              "      fill: #1967D2;\n",
              "      height: 32px;\n",
              "      padding: 0 0 0 0;\n",
              "      width: 32px;\n",
              "    }\n",
              "\n",
              "    .colab-df-convert:hover {\n",
              "      background-color: #E2EBFA;\n",
              "      box-shadow: 0px 1px 2px rgba(60, 64, 67, 0.3), 0px 1px 3px 1px rgba(60, 64, 67, 0.15);\n",
              "      fill: #174EA6;\n",
              "    }\n",
              "\n",
              "    [theme=dark] .colab-df-convert {\n",
              "      background-color: #3B4455;\n",
              "      fill: #D2E3FC;\n",
              "    }\n",
              "\n",
              "    [theme=dark] .colab-df-convert:hover {\n",
              "      background-color: #434B5C;\n",
              "      box-shadow: 0px 1px 3px 1px rgba(0, 0, 0, 0.15);\n",
              "      filter: drop-shadow(0px 1px 2px rgba(0, 0, 0, 0.3));\n",
              "      fill: #FFFFFF;\n",
              "    }\n",
              "  </style>\n",
              "\n",
              "      <script>\n",
              "        const buttonEl =\n",
              "          document.querySelector('#df-5a9dd79f-4021-4003-a002-945722371eb4 button.colab-df-convert');\n",
              "        buttonEl.style.display =\n",
              "          google.colab.kernel.accessAllowed ? 'block' : 'none';\n",
              "\n",
              "        async function convertToInteractive(key) {\n",
              "          const element = document.querySelector('#df-5a9dd79f-4021-4003-a002-945722371eb4');\n",
              "          const dataTable =\n",
              "            await google.colab.kernel.invokeFunction('convertToInteractive',\n",
              "                                                     [key], {});\n",
              "          if (!dataTable) return;\n",
              "\n",
              "          const docLinkHtml = 'Like what you see? Visit the ' +\n",
              "            '<a target=\"_blank\" href=https://colab.research.google.com/notebooks/data_table.ipynb>data table notebook</a>'\n",
              "            + ' to learn more about interactive tables.';\n",
              "          element.innerHTML = '';\n",
              "          dataTable['output_type'] = 'display_data';\n",
              "          await google.colab.output.renderOutput(dataTable, element);\n",
              "          const docLink = document.createElement('div');\n",
              "          docLink.innerHTML = docLinkHtml;\n",
              "          element.appendChild(docLink);\n",
              "        }\n",
              "      </script>\n",
              "    </div>\n",
              "  </div>\n",
              "  "
            ],
            "text/plain": [
              "        id                                           document  label\n",
              "0  8525343  나 이거 더빙을 누가하는지 모르고 봤는데 왠지 더빙이 구리더라...더빙이 너무 별로였음.      0\n",
              "1  4572888                현암이 소지섭이었으면 좋았겠는데..스토리각색도 좀 깔끔하게...      0\n",
              "2  8504845                                      ㅎㅎㅎ 대단하네 ㅜ,.ㅡ      0\n",
              "3  5003367                            이거보고 돈날린 기억이...........      0\n",
              "4  3015049                                  한국영화 어쩌다 이지경까지 ㅠㅠ      0"
            ]
          },
          "metadata": {},
          "execution_count": 7
        }
      ]
    },
    {
      "cell_type": "markdown",
      "metadata": {
        "id": "lzUp9Z6Hk2tk"
      },
      "source": [
        "### `CustomDataset `클래스 구현\n",
        "- 클래스 정의\n",
        "  - 생성자 입력 매개변수 \n",
        "    - `input_data` : 리뷰 텍스트 리스트\n",
        "    - `target_data` : 레이블 (0 또는 1) list\n",
        "  - 생성자에서 생성할 변수\n",
        "    - `X` : `input_data`\n",
        "    - `Y` : `target_data`\n",
        "  - 메소드 \n",
        "    - `__len__()`\n",
        "      - 데이터 총 개수를 반환\n",
        "    - `__getitem__()`\n",
        "      - 해당 인덱스의 (input_data, target_data) 튜플을 반환\n",
        "  - 주의 사항\n",
        "    - `torch.utils.data.Dataset()` 클래스를 부모 클래스로 상속받아 구현한다.  "
      ]
    },
    {
      "cell_type": "code",
      "execution_count": 8,
      "metadata": {
        "id": "ufvK9o1y75es"
      },
      "outputs": [],
      "source": [
        "from torch.utils.data import Dataset, DataLoader, RandomSampler, SequentialSampler, random_split"
      ]
    },
    {
      "cell_type": "code",
      "execution_count": 9,
      "metadata": {
        "id": "kpJuYP5k75et"
      },
      "outputs": [],
      "source": [
        "class CustomDataset(Dataset):\n",
        "  \"\"\"\n",
        "  - input_data: list of string\n",
        "  - target_data: list of int\n",
        "  \"\"\"\n",
        "\n",
        "  def __init__(self, input_data:list, target_data:list):\n",
        "      self.X = input_data\n",
        "      self.Y = target_data\n",
        "\n",
        "  def __len__(self):\n",
        "      return len(self.Y)\n",
        "\n",
        "  def __getitem__(self, index):\n",
        "      return self.X[index], self.Y[index]"
      ]
    },
    {
      "cell_type": "code",
      "execution_count": 10,
      "metadata": {
        "id": "O1IfgQ3i75et"
      },
      "outputs": [],
      "source": [
        "dataset = CustomDataset(list(sample_df['document']), list(sample_df['label']))"
      ]
    },
    {
      "cell_type": "code",
      "execution_count": 11,
      "metadata": {
        "id": "lhIyORYY75et",
        "colab": {
          "base_uri": "https://localhost:8080/"
        },
        "outputId": "855369e6-e9ca-46cb-d43f-4df3a1f6a111"
      },
      "outputs": [
        {
          "output_type": "execute_result",
          "data": {
            "text/plain": [
              "('나 이거 더빙을 누가하는지 모르고 봤는데 왠지 더빙이 구리더라...더빙이 너무 별로였음.', 0)"
            ]
          },
          "metadata": {},
          "execution_count": 11
        }
      ],
      "source": [
        "# map-stype dataset 클래스는 indexing이 가능함\n",
        "dataset[0]"
      ]
    },
    {
      "cell_type": "code",
      "execution_count": 12,
      "metadata": {
        "id": "yUX4isDB75et",
        "colab": {
          "base_uri": "https://localhost:8080/"
        },
        "outputId": "e78ec621-efd3-464c-c7f2-6b8734e78a2d"
      },
      "outputs": [
        {
          "output_type": "execute_result",
          "data": {
            "text/plain": [
              "10000"
            ]
          },
          "metadata": {},
          "execution_count": 12
        }
      ],
      "source": [
        "# 데이터 셋 총 개수 확인 가능\n",
        "len(dataset)"
      ]
    },
    {
      "cell_type": "markdown",
      "metadata": {
        "id": "EYl3lxKAk2to"
      },
      "source": [
        "###  `torch.utils.data.random_split` 함수를 사용해 데이터셋을 train, valid로 분리\n",
        "- 데이터 비율은 `train : valid = 9 : 1`으로 분리하라"
      ]
    },
    {
      "cell_type": "code",
      "execution_count": 13,
      "metadata": {
        "id": "XMQKBb1j75et"
      },
      "outputs": [],
      "source": [
        "from torch.utils.data.dataset import random_split\n",
        "\n",
        "n_train = int(len(dataset)*0.9)\n",
        "n_valid = int(len(dataset)*0.1)"
      ]
    },
    {
      "cell_type": "code",
      "execution_count": 14,
      "metadata": {
        "id": "ykrmlQc775et"
      },
      "outputs": [],
      "source": [
        "train_dataset, valid_dataset = random_split(dataset, [n_train,n_valid])"
      ]
    },
    {
      "cell_type": "code",
      "execution_count": 15,
      "metadata": {
        "id": "hAVrFb1575et",
        "colab": {
          "base_uri": "https://localhost:8080/"
        },
        "outputId": "524460bb-c807-4524-e225-99ea81f972d4"
      },
      "outputs": [
        {
          "output_type": "execute_result",
          "data": {
            "text/plain": [
              "9000"
            ]
          },
          "metadata": {},
          "execution_count": 15
        }
      ],
      "source": [
        "len(train_dataset)"
      ]
    },
    {
      "cell_type": "code",
      "execution_count": 16,
      "metadata": {
        "id": "xXqW0CTB75et",
        "colab": {
          "base_uri": "https://localhost:8080/"
        },
        "outputId": "8dafe4c5-52c9-4218-d43e-376941c12bd5"
      },
      "outputs": [
        {
          "output_type": "execute_result",
          "data": {
            "text/plain": [
              "1000"
            ]
          },
          "metadata": {},
          "execution_count": 16
        }
      ],
      "source": [
        "len(valid_dataset)"
      ]
    },
    {
      "cell_type": "markdown",
      "metadata": {
        "id": "qT05JmBQk2tp"
      },
      "source": [
        "## Challenge"
      ]
    },
    {
      "cell_type": "markdown",
      "metadata": {
        "id": "_BmAN83Ck2tq"
      },
      "source": [
        "### dynamic padding을 구현하는  `custom_collate_fn` 함수 구현 \n",
        "- batch (`List[Tuple(input, target)]`)를 입력받아 토크나이즈한 후 텐서 형태로 변형해 반환 ( `Tuple(Tensor(tokenized_input), Tensor(target))`)하는 `collate_fn()` 함수를 구현하라. \n",
        "- 함수 정의\n",
        "  - 입력 매개변수\n",
        "    - `batch` : (input(string), target(int)) 튜플을 담고 있는 리스트.  만약 `batch_size`가 32라면 리스트는 32개의 튜플을 갖고 있다. \n",
        "  - 조건\n",
        "    - input\n",
        "      - [BERT Tokenizer](https://huggingface.co/docs/transformers/main_classes/tokenizer#transformers.PreTrainedTokenizer) 클래스의 `__call__()` 메소드 사용 방법을 읽고, `__call__()` 파라미터를 조정해 dynamic padding을 구현한다.\n",
        "      - 토크나이즈할 때 한 배치내 인풋들의 토큰 개수는 모두 동일할 수 있도록하라. 이때, 가장 긴 토큰을 가지고 있는 인풋을 기준으로 토큰 개수를 맞춘다. 즉, 토큰 개수가 모자란 인풋은 `[PAD]` 토큰을 추가한다. (이를 **dynamic padding**이라고 한다.) \n",
        "      - 토크나이저에서 반환된 값은 Tensor 타입이어야 한다. \n",
        "    - target\n",
        "      - target은 Tensor 타입으로 변형한다.\n",
        "  - 반환값\n",
        "    - (tensorized_input, tensorized_label) 튜플"
      ]
    },
    {
      "cell_type": "code",
      "execution_count": 17,
      "metadata": {
        "id": "q-tJERGI4Fzk",
        "scrolled": true,
        "colab": {
          "base_uri": "https://localhost:8080/"
        },
        "outputId": "c2a7d7ea-2b63-4f48-e730-cd4cf052865e"
      },
      "outputs": [
        {
          "output_type": "stream",
          "name": "stdout",
          "text": [
            "Requirement already satisfied: transformers in /usr/local/lib/python3.7/dist-packages (4.16.2)\n",
            "Requirement already satisfied: regex!=2019.12.17 in /usr/local/lib/python3.7/dist-packages (from transformers) (2019.12.20)\n",
            "Requirement already satisfied: huggingface-hub<1.0,>=0.1.0 in /usr/local/lib/python3.7/dist-packages (from transformers) (0.4.0)\n",
            "Requirement already satisfied: numpy>=1.17 in /usr/local/lib/python3.7/dist-packages (from transformers) (1.21.5)\n",
            "Requirement already satisfied: tokenizers!=0.11.3,>=0.10.1 in /usr/local/lib/python3.7/dist-packages (from transformers) (0.11.6)\n",
            "Requirement already satisfied: sacremoses in /usr/local/lib/python3.7/dist-packages (from transformers) (0.0.47)\n",
            "Requirement already satisfied: filelock in /usr/local/lib/python3.7/dist-packages (from transformers) (3.6.0)\n",
            "Requirement already satisfied: tqdm>=4.27 in /usr/local/lib/python3.7/dist-packages (from transformers) (4.62.3)\n",
            "Requirement already satisfied: requests in /usr/local/lib/python3.7/dist-packages (from transformers) (2.23.0)\n",
            "Requirement already satisfied: packaging>=20.0 in /usr/local/lib/python3.7/dist-packages (from transformers) (21.3)\n",
            "Requirement already satisfied: importlib-metadata in /usr/local/lib/python3.7/dist-packages (from transformers) (4.11.1)\n",
            "Requirement already satisfied: pyyaml>=5.1 in /usr/local/lib/python3.7/dist-packages (from transformers) (6.0)\n",
            "Requirement already satisfied: typing-extensions>=3.7.4.3 in /usr/local/lib/python3.7/dist-packages (from huggingface-hub<1.0,>=0.1.0->transformers) (3.10.0.2)\n",
            "Requirement already satisfied: pyparsing!=3.0.5,>=2.0.2 in /usr/local/lib/python3.7/dist-packages (from packaging>=20.0->transformers) (3.0.7)\n",
            "Requirement already satisfied: zipp>=0.5 in /usr/local/lib/python3.7/dist-packages (from importlib-metadata->transformers) (3.7.0)\n",
            "Requirement already satisfied: certifi>=2017.4.17 in /usr/local/lib/python3.7/dist-packages (from requests->transformers) (2021.10.8)\n",
            "Requirement already satisfied: chardet<4,>=3.0.2 in /usr/local/lib/python3.7/dist-packages (from requests->transformers) (3.0.4)\n",
            "Requirement already satisfied: idna<3,>=2.5 in /usr/local/lib/python3.7/dist-packages (from requests->transformers) (2.10)\n",
            "Requirement already satisfied: urllib3!=1.25.0,!=1.25.1,<1.26,>=1.21.1 in /usr/local/lib/python3.7/dist-packages (from requests->transformers) (1.24.3)\n",
            "Requirement already satisfied: joblib in /usr/local/lib/python3.7/dist-packages (from sacremoses->transformers) (1.1.0)\n",
            "Requirement already satisfied: six in /usr/local/lib/python3.7/dist-packages (from sacremoses->transformers) (1.15.0)\n",
            "Requirement already satisfied: click in /usr/local/lib/python3.7/dist-packages (from sacremoses->transformers) (7.1.2)\n"
          ]
        }
      ],
      "source": [
        "!pip install transformers"
      ]
    },
    {
      "cell_type": "code",
      "execution_count": 18,
      "metadata": {
        "id": "JlcYCOyW3d2t"
      },
      "outputs": [],
      "source": [
        "from transformers import BertTokenizer, BertModel"
      ]
    },
    {
      "cell_type": "code",
      "execution_count": 19,
      "metadata": {
        "id": "C_U_c-Mf3d2t"
      },
      "outputs": [],
      "source": [
        "tokenizer_bert = BertTokenizer.from_pretrained(\"klue/bert-base\")"
      ]
    },
    {
      "cell_type": "code",
      "execution_count": 20,
      "metadata": {
        "id": "bqGJ0ryq75eu"
      },
      "outputs": [],
      "source": [
        "def custom_collate_fn(batch):\n",
        "  \"\"\"\n",
        "  - batch: list of tuples (input_data(string), target_data(int))\n",
        "  \n",
        "  한 배치 내 문장들을 tokenizing 한 후 텐서로 변환함. \n",
        "  이때, dynamic padding (즉, 같은 배치 내 토큰의 개수가 동일할 수 있도록, 부족한 문장에 [PAD] 토큰을 추가하는 작업)을 적용\n",
        "  토큰 개수는 배치 내 가장 긴 문장으로 해야함.\n",
        "  또한 최대 길이를 넘는 문장은 최대 길이 이후의 토큰을 제거하도록 해야 함\n",
        "  토크나이즈된 결과 값은 텐서 형태로 반환하도록 해야 함\n",
        "  \n",
        "  한 배치 내 레이블(target)은 텐서화 함.\n",
        "  \n",
        "  (input, target) 튜플 형태를 반환.\n",
        "  \"\"\"\n",
        "  global tokenizer_bert\n",
        "  batch=list(batch)\n",
        "\n",
        "  input_list=[]\n",
        "  target_list=[]\n",
        "  \n",
        "  for k,v in batch:\n",
        "    input_list.append(k)\n",
        "    target_list.append(v)\n",
        "  \n",
        "  tensorized_input = tokenizer_bert(\n",
        "        text = input_list,\n",
        "        padding='longest',\n",
        "        truncation = True,\n",
        "        return_tensors = 'pt'\n",
        "        )\n",
        "  \n",
        "  tensorized_label = torch.tensor(target_list)\n",
        "  \n",
        "  return (tensorized_input, tensorized_label)\n",
        "    "
      ]
    },
    {
      "cell_type": "markdown",
      "metadata": {
        "id": "OLANqpNc75eu"
      },
      "source": [
        "### 위에서 구현한 `custom_collate_fn`함수를 적용해 DataLoader 인스턴스 생성\n",
        "- `train_dataloader`\n",
        "    - batch_size = 32\n",
        "    - collate_fn = 위에서 구현한 함수\n",
        "    - sampler = `RandomSampler()`\n",
        "        - `train_dataset`의 학습 데이터를 셔플링 함\n",
        "- `valid_dataloader`\n",
        "    - batch_size = 64\n",
        "    - collate_fn = 위에서 구현한 함수\n",
        "    - sampler = `SequentialSampler()`\n",
        "        - `valid_dataset`의 검증 데이터를 순차적으로 정렬함 (셔플X)"
      ]
    },
    {
      "cell_type": "code",
      "execution_count": 21,
      "metadata": {
        "id": "HO_HuNa-75eu"
      },
      "outputs": [],
      "source": [
        "train_dataloader = DataLoader(train_dataset,batch_size=32, sampler=RandomSampler(train_dataset), collate_fn =custom_collate_fn)\n",
        "\n",
        "valid_dataloader = DataLoader(valid_dataset,batch_size=64, sampler=SequentialSampler(valid_dataset), collate_fn =custom_collate_fn)"
      ]
    },
    {
      "cell_type": "code",
      "execution_count": 22,
      "metadata": {
        "id": "aDZ38Taw75eu",
        "colab": {
          "base_uri": "https://localhost:8080/"
        },
        "outputId": "2cc835fe-8de6-4023-8bc2-e103dc4aa8ab"
      },
      "outputs": [
        {
          "output_type": "stream",
          "name": "stdout",
          "text": [
            "Batch input shape: torch.Size([64, 99])\n",
            "Batch target shape: torch.Size([64])\n",
            "Batch input shape: torch.Size([64, 83])\n",
            "Batch target shape: torch.Size([64])\n",
            "Batch input shape: torch.Size([64, 81])\n",
            "Batch target shape: torch.Size([64])\n",
            "Batch input shape: torch.Size([64, 76])\n",
            "Batch target shape: torch.Size([64])\n",
            "Batch input shape: torch.Size([64, 70])\n",
            "Batch target shape: torch.Size([64])\n",
            "Batch input shape: torch.Size([64, 79])\n",
            "Batch target shape: torch.Size([64])\n",
            "Batch input shape: torch.Size([64, 86])\n",
            "Batch target shape: torch.Size([64])\n",
            "Batch input shape: torch.Size([64, 78])\n",
            "Batch target shape: torch.Size([64])\n",
            "Batch input shape: torch.Size([64, 72])\n",
            "Batch target shape: torch.Size([64])\n",
            "Batch input shape: torch.Size([64, 83])\n",
            "Batch target shape: torch.Size([64])\n",
            "Batch input shape: torch.Size([64, 73])\n",
            "Batch target shape: torch.Size([64])\n",
            "Batch input shape: torch.Size([64, 95])\n",
            "Batch target shape: torch.Size([64])\n",
            "Batch input shape: torch.Size([64, 81])\n",
            "Batch target shape: torch.Size([64])\n",
            "Batch input shape: torch.Size([64, 52])\n",
            "Batch target shape: torch.Size([64])\n",
            "Batch input shape: torch.Size([64, 87])\n",
            "Batch target shape: torch.Size([64])\n",
            "Batch input shape: torch.Size([40, 84])\n",
            "Batch target shape: torch.Size([40])\n"
          ]
        }
      ],
      "source": [
        "# 배치마다 토큰 길이가 다른 것을 확인\n",
        "for input_batch, target_batch in valid_dataloader:\n",
        "  print(f\"Batch input shape: {input_batch['input_ids'].shape}\")\n",
        "  print(f\"Batch target shape: {target_batch.shape}\")"
      ]
    },
    {
      "cell_type": "markdown",
      "metadata": {
        "id": "0K9zzAltk2ts"
      },
      "source": [
        "## Advanced"
      ]
    },
    {
      "cell_type": "markdown",
      "metadata": {
        "id": "2r2Pz_1nk2ts"
      },
      "source": [
        "### 어제(week2-2) 생성한 `train()` 함수의 입력값이었던 `data_iterator`를  `data_loader`로 변경"
      ]
    },
    {
      "cell_type": "code",
      "execution_count": 23,
      "metadata": {
        "id": "U0WbqVv62Zvy"
      },
      "outputs": [],
      "source": [
        "import torch.nn as nn\n",
        "import torch.nn.functional as F\n",
        "from torch.optim import AdamW\n",
        "from torch.nn import CrossEntropyLoss"
      ]
    },
    {
      "cell_type": "code",
      "execution_count": 30,
      "metadata": {
        "id": "aw6VaI2yk2tt"
      },
      "outputs": [],
      "source": [
        "def train(model, data_loader):\n",
        "  global loss_fct\n",
        "\n",
        "  # 배치 단위 평균 loss와 총 평균 loss 계산하기위해 변수 생성\n",
        "  total_loss, batch_loss, batch_count = 0,0,0\n",
        "  \n",
        "  # model을 train 모드로 설정 & device 할당\n",
        "  model.train()\n",
        "  model.to(device)\n",
        "  \n",
        "  # data iterator를 돌면서 하나씩 학습\n",
        "  for step, batch in enumerate(data_loader):\n",
        "      batch_count+=1\n",
        "      \n",
        "      # tensor 연산 전, 각 tensor에 device 할당\n",
        "      batch = tuple(item.to(device) for item in batch)\n",
        "      \n",
        "      batch_input, batch_label = batch\n",
        "      \n",
        "      # batch마다 모델이 갖고 있는 기존 gradient를 초기화\n",
        "      model.zero_grad()\n",
        "      \n",
        "      # forward\n",
        "      logits = model(batch_input['input_ids'],batch_input['attention_mask'],batch_input['token_type_ids'])\n",
        "      \n",
        "      # loss\n",
        "      loss = loss_fct(logits, batch_label)\n",
        "      batch_loss += loss.item()\n",
        "      total_loss += loss.item()\n",
        "      \n",
        "      # backward -> 파라미터의 미분(gradient)를 자동으로 계산\n",
        "      loss.backward()\n",
        "      \n",
        "      # optimizer 업데이트\n",
        "      optimizer.step()\n",
        "      \n",
        "      # 배치 10개씩 처리할 때마다 평균 loss를 출력\n",
        "      if (step % 10 == 0 and step != 0):\n",
        "          print(f\"Step : {step}, Avg Loss : {batch_loss / batch_count:.4f}\")\n",
        "          \n",
        "          # 변수 초기화 \n",
        "          batch_loss, batch_count = 0,0\n",
        "  \n",
        "      print(f\"Mean Loss : {total_loss/(step+1):.4f}\")\n",
        "  print(\"Train Finished\")"
      ]
    },
    {
      "cell_type": "markdown",
      "metadata": {
        "id": "j2XneduTk2tt"
      },
      "source": [
        "### 지금까지 구현한 함수와 클래스를 모두 불러와 `train()` 함수를 실행하자\n",
        "- fine-tuning 모델 클래스 (`CustomClassifier`)\n",
        "    - hidden_size = 768\n",
        "    - n_label = 2\n",
        "- 데이터 이터레이터 함수 (`data_iterator`)\n",
        "    - batch_size = 32\n",
        "- loss \n",
        "    - `CrossEntropyLoss()`\n",
        "- optimizer\n",
        "    - `AdamW()`\n",
        "    - lr = 2e-5\n"
      ]
    },
    {
      "cell_type": "code",
      "execution_count": 29,
      "metadata": {
        "id": "Im98H4-U1eQQ"
      },
      "outputs": [],
      "source": [
        "# Week2-2에서 구현한 클래스와 동일\n",
        "\n",
        "class CustomClassifier(nn.Module):\n",
        "\n",
        "  def __init__(self, hidden_size: int, n_label: int):\n",
        "    super(CustomClassifier, self).__init__()\n",
        "\n",
        "    self.bert = BertModel.from_pretrained(\"klue/bert-base\")\n",
        "\n",
        "    dropout_rate = 0.1\n",
        "    linear_layer_hidden_size = 32\n",
        "\n",
        "    self.classifier = nn.Sequential(\n",
        "          nn.Linear(hidden_size, linear_layer_hidden_size),\n",
        "          nn.ReLU(),\n",
        "          nn.Dropout(dropout_rate),\n",
        "          nn.Linear(linear_layer_hidden_size,n_label)\n",
        "        ) # torch.nn에서 제공되는 Sequential, Linear, ReLU, Dropout 함수 활용\n",
        "  \n",
        "  def forward(self, input_ids=None, attention_mask=None, token_type_ids=None):\n",
        "    outputs = self.bert(\n",
        "        input_ids,\n",
        "        attention_mask=attention_mask,\n",
        "        token_type_ids=token_type_ids,\n",
        "    )\n",
        "\n",
        "    # BERT 모델의 마지막 레이어의 첫번재 토큰을 인덱싱\n",
        "    cls_token_last_hidden_states = outputs['pooler_output'] # 마지막 layer의 첫 번째 토큰 (\"[CLS]\") 벡터를 가져오기, shape = (1, hidden_size)\n",
        "\n",
        "    logits = self.classifier(cls_token_last_hidden_states)\n",
        "\n",
        "    return logits"
      ]
    },
    {
      "cell_type": "code",
      "execution_count": 26,
      "metadata": {
        "id": "w1ix-0Ztk2tu",
        "colab": {
          "base_uri": "https://localhost:8080/"
        },
        "outputId": "0cf8f968-6c44-4aea-ff83-d8fb74edecae"
      },
      "outputs": [
        {
          "output_type": "stream",
          "name": "stderr",
          "text": [
            "Some weights of the model checkpoint at klue/bert-base were not used when initializing BertModel: ['cls.seq_relationship.weight', 'cls.predictions.transform.dense.bias', 'cls.seq_relationship.bias', 'cls.predictions.transform.LayerNorm.weight', 'cls.predictions.bias', 'cls.predictions.decoder.bias', 'cls.predictions.transform.dense.weight', 'cls.predictions.transform.LayerNorm.bias', 'cls.predictions.decoder.weight']\n",
            "- This IS expected if you are initializing BertModel from the checkpoint of a model trained on another task or with another architecture (e.g. initializing a BertForSequenceClassification model from a BertForPreTraining model).\n",
            "- This IS NOT expected if you are initializing BertModel from the checkpoint of a model that you expect to be exactly identical (initializing a BertForSequenceClassification model from a BertForSequenceClassification model).\n"
          ]
        }
      ],
      "source": [
        "# 모델\n",
        "model = CustomClassifier(hidden_size=768, n_label=2)\n",
        "\n",
        "# 데이터로더\n",
        "batch_size = 32\n",
        "train_dataloader = DataLoader(train_dataset,batch_size=32, sampler=RandomSampler(train_dataset), collate_fn =custom_collate_fn)\n",
        "\n",
        "# 로스 및 옵티마이저\n",
        "loss_fct = CrossEntropyLoss()\n",
        "optimizer = AdamW(\n",
        "    model.parameters(),\n",
        "    lr=2e-5,\n",
        "    eps=1e-8\n",
        ")\n"
      ]
    },
    {
      "cell_type": "code",
      "source": [
        "import gc\n",
        "gc.collect()\n",
        "torch.cuda.empty_cache()"
      ],
      "metadata": {
        "id": "DJQQx3dQjW2J"
      },
      "execution_count": 27,
      "outputs": []
    },
    {
      "cell_type": "code",
      "source": [
        "# 학습 시작\n",
        "train(model, train_dataloader)"
      ],
      "metadata": {
        "colab": {
          "base_uri": "https://localhost:8080/"
        },
        "id": "Meazn2Z0jKlE",
        "outputId": "55dc6e4f-78e6-4b73-8bbf-37dc003b1c32"
      },
      "execution_count": 31,
      "outputs": [
        {
          "output_type": "stream",
          "name": "stdout",
          "text": [
            "Mean Loss : 0.4908\n",
            "Mean Loss : 0.4186\n",
            "Mean Loss : 0.3577\n",
            "Mean Loss : 0.3471\n",
            "Mean Loss : 0.3376\n",
            "Mean Loss : 0.3298\n",
            "Mean Loss : 0.3367\n",
            "Mean Loss : 0.3461\n",
            "Mean Loss : 0.3556\n",
            "Mean Loss : 0.3570\n",
            "Step : 10, Avg Loss : 0.3549\n",
            "Mean Loss : 0.3549\n",
            "Mean Loss : 0.3476\n",
            "Mean Loss : 0.3398\n",
            "Mean Loss : 0.3422\n",
            "Mean Loss : 0.3478\n",
            "Mean Loss : 0.3465\n",
            "Mean Loss : 0.3502\n",
            "Mean Loss : 0.3539\n",
            "Mean Loss : 0.3565\n",
            "Mean Loss : 0.3569\n",
            "Step : 20, Avg Loss : 0.3697\n",
            "Mean Loss : 0.3620\n",
            "Mean Loss : 0.3664\n",
            "Mean Loss : 0.3700\n",
            "Mean Loss : 0.3752\n",
            "Mean Loss : 0.3701\n",
            "Mean Loss : 0.3644\n",
            "Mean Loss : 0.3594\n",
            "Mean Loss : 0.3585\n",
            "Mean Loss : 0.3532\n",
            "Mean Loss : 0.3493\n",
            "Step : 30, Avg Loss : 0.3309\n",
            "Mean Loss : 0.3520\n",
            "Mean Loss : 0.3533\n",
            "Mean Loss : 0.3506\n",
            "Mean Loss : 0.3511\n",
            "Mean Loss : 0.3559\n",
            "Mean Loss : 0.3564\n",
            "Mean Loss : 0.3544\n",
            "Mean Loss : 0.3524\n",
            "Mean Loss : 0.3526\n",
            "Mean Loss : 0.3512\n",
            "Step : 40, Avg Loss : 0.3459\n",
            "Mean Loss : 0.3505\n",
            "Mean Loss : 0.3546\n",
            "Mean Loss : 0.3509\n",
            "Mean Loss : 0.3519\n",
            "Mean Loss : 0.3535\n",
            "Mean Loss : 0.3526\n",
            "Mean Loss : 0.3517\n",
            "Mean Loss : 0.3494\n",
            "Mean Loss : 0.3464\n",
            "Mean Loss : 0.3497\n",
            "Step : 50, Avg Loss : 0.3448\n",
            "Mean Loss : 0.3494\n",
            "Mean Loss : 0.3504\n",
            "Mean Loss : 0.3543\n",
            "Mean Loss : 0.3541\n",
            "Mean Loss : 0.3537\n",
            "Mean Loss : 0.3537\n",
            "Mean Loss : 0.3537\n",
            "Mean Loss : 0.3513\n",
            "Mean Loss : 0.3494\n",
            "Mean Loss : 0.3483\n",
            "Step : 60, Avg Loss : 0.3479\n",
            "Mean Loss : 0.3491\n",
            "Mean Loss : 0.3474\n",
            "Mean Loss : 0.3477\n",
            "Mean Loss : 0.3486\n",
            "Mean Loss : 0.3500\n",
            "Mean Loss : 0.3503\n",
            "Mean Loss : 0.3499\n",
            "Mean Loss : 0.3523\n",
            "Mean Loss : 0.3519\n",
            "Mean Loss : 0.3521\n",
            "Step : 70, Avg Loss : 0.3897\n",
            "Mean Loss : 0.3549\n",
            "Mean Loss : 0.3541\n",
            "Mean Loss : 0.3543\n",
            "Mean Loss : 0.3552\n",
            "Mean Loss : 0.3547\n",
            "Mean Loss : 0.3553\n",
            "Mean Loss : 0.3548\n",
            "Mean Loss : 0.3542\n",
            "Mean Loss : 0.3531\n",
            "Mean Loss : 0.3531\n",
            "Step : 80, Avg Loss : 0.3365\n",
            "Mean Loss : 0.3526\n",
            "Mean Loss : 0.3536\n",
            "Mean Loss : 0.3557\n",
            "Mean Loss : 0.3573\n",
            "Mean Loss : 0.3563\n",
            "Mean Loss : 0.3541\n",
            "Mean Loss : 0.3532\n",
            "Mean Loss : 0.3527\n",
            "Mean Loss : 0.3526\n",
            "Mean Loss : 0.3533\n",
            "Step : 90, Avg Loss : 0.3662\n",
            "Mean Loss : 0.3541\n",
            "Mean Loss : 0.3532\n",
            "Mean Loss : 0.3537\n",
            "Mean Loss : 0.3542\n",
            "Mean Loss : 0.3542\n",
            "Mean Loss : 0.3534\n",
            "Mean Loss : 0.3523\n",
            "Mean Loss : 0.3516\n",
            "Mean Loss : 0.3519\n",
            "Mean Loss : 0.3521\n",
            "Step : 100, Avg Loss : 0.3299\n",
            "Mean Loss : 0.3517\n",
            "Mean Loss : 0.3513\n",
            "Mean Loss : 0.3507\n",
            "Mean Loss : 0.3496\n",
            "Mean Loss : 0.3496\n",
            "Mean Loss : 0.3500\n",
            "Mean Loss : 0.3502\n",
            "Mean Loss : 0.3505\n",
            "Mean Loss : 0.3510\n",
            "Mean Loss : 0.3506\n",
            "Step : 110, Avg Loss : 0.3350\n",
            "Mean Loss : 0.3502\n",
            "Mean Loss : 0.3498\n",
            "Mean Loss : 0.3491\n",
            "Mean Loss : 0.3482\n",
            "Mean Loss : 0.3484\n",
            "Mean Loss : 0.3470\n",
            "Mean Loss : 0.3468\n",
            "Mean Loss : 0.3478\n",
            "Mean Loss : 0.3491\n",
            "Mean Loss : 0.3483\n",
            "Step : 120, Avg Loss : 0.3244\n",
            "Mean Loss : 0.3481\n",
            "Mean Loss : 0.3467\n",
            "Mean Loss : 0.3472\n",
            "Mean Loss : 0.3470\n",
            "Mean Loss : 0.3461\n",
            "Mean Loss : 0.3452\n",
            "Mean Loss : 0.3447\n",
            "Mean Loss : 0.3446\n",
            "Mean Loss : 0.3442\n",
            "Mean Loss : 0.3434\n",
            "Step : 130, Avg Loss : 0.2898\n",
            "Mean Loss : 0.3436\n",
            "Mean Loss : 0.3432\n",
            "Mean Loss : 0.3436\n",
            "Mean Loss : 0.3426\n",
            "Mean Loss : 0.3427\n",
            "Mean Loss : 0.3424\n",
            "Mean Loss : 0.3422\n",
            "Mean Loss : 0.3418\n",
            "Mean Loss : 0.3418\n",
            "Mean Loss : 0.3411\n",
            "Step : 140, Avg Loss : 0.2972\n",
            "Mean Loss : 0.3403\n",
            "Mean Loss : 0.3394\n",
            "Mean Loss : 0.3386\n",
            "Mean Loss : 0.3387\n",
            "Mean Loss : 0.3392\n",
            "Mean Loss : 0.3391\n",
            "Mean Loss : 0.3394\n",
            "Mean Loss : 0.3397\n",
            "Mean Loss : 0.3393\n",
            "Mean Loss : 0.3392\n",
            "Step : 150, Avg Loss : 0.3362\n",
            "Mean Loss : 0.3400\n",
            "Mean Loss : 0.3400\n",
            "Mean Loss : 0.3397\n",
            "Mean Loss : 0.3392\n",
            "Mean Loss : 0.3389\n",
            "Mean Loss : 0.3395\n",
            "Mean Loss : 0.3404\n",
            "Mean Loss : 0.3414\n",
            "Mean Loss : 0.3419\n",
            "Mean Loss : 0.3416\n",
            "Step : 160, Avg Loss : 0.3723\n",
            "Mean Loss : 0.3420\n",
            "Mean Loss : 0.3427\n",
            "Mean Loss : 0.3429\n",
            "Mean Loss : 0.3424\n",
            "Mean Loss : 0.3426\n",
            "Mean Loss : 0.3428\n",
            "Mean Loss : 0.3426\n",
            "Mean Loss : 0.3440\n",
            "Mean Loss : 0.3442\n",
            "Mean Loss : 0.3439\n",
            "Step : 170, Avg Loss : 0.3582\n",
            "Mean Loss : 0.3430\n",
            "Mean Loss : 0.3431\n",
            "Mean Loss : 0.3426\n",
            "Mean Loss : 0.3426\n",
            "Mean Loss : 0.3432\n",
            "Mean Loss : 0.3429\n",
            "Mean Loss : 0.3425\n",
            "Mean Loss : 0.3429\n",
            "Mean Loss : 0.3427\n",
            "Mean Loss : 0.3427\n",
            "Step : 180, Avg Loss : 0.3425\n",
            "Mean Loss : 0.3430\n",
            "Mean Loss : 0.3438\n",
            "Mean Loss : 0.3431\n",
            "Mean Loss : 0.3432\n",
            "Mean Loss : 0.3429\n",
            "Mean Loss : 0.3425\n",
            "Mean Loss : 0.3424\n",
            "Mean Loss : 0.3430\n",
            "Mean Loss : 0.3425\n",
            "Mean Loss : 0.3420\n",
            "Step : 190, Avg Loss : 0.3147\n",
            "Mean Loss : 0.3415\n",
            "Mean Loss : 0.3409\n",
            "Mean Loss : 0.3406\n",
            "Mean Loss : 0.3405\n",
            "Mean Loss : 0.3404\n",
            "Mean Loss : 0.3399\n",
            "Mean Loss : 0.3398\n",
            "Mean Loss : 0.3402\n",
            "Mean Loss : 0.3401\n",
            "Mean Loss : 0.3402\n",
            "Step : 200, Avg Loss : 0.3098\n",
            "Mean Loss : 0.3399\n",
            "Mean Loss : 0.3393\n",
            "Mean Loss : 0.3382\n",
            "Mean Loss : 0.3375\n",
            "Mean Loss : 0.3380\n",
            "Mean Loss : 0.3390\n",
            "Mean Loss : 0.3387\n",
            "Mean Loss : 0.3383\n",
            "Mean Loss : 0.3384\n",
            "Mean Loss : 0.3375\n",
            "Step : 210, Avg Loss : 0.2892\n",
            "Mean Loss : 0.3375\n",
            "Mean Loss : 0.3375\n",
            "Mean Loss : 0.3381\n",
            "Mean Loss : 0.3383\n",
            "Mean Loss : 0.3398\n",
            "Mean Loss : 0.3389\n",
            "Mean Loss : 0.3387\n",
            "Mean Loss : 0.3390\n",
            "Mean Loss : 0.3388\n",
            "Mean Loss : 0.3387\n",
            "Step : 220, Avg Loss : 0.3607\n",
            "Mean Loss : 0.3385\n",
            "Mean Loss : 0.3388\n",
            "Mean Loss : 0.3395\n",
            "Mean Loss : 0.3394\n",
            "Mean Loss : 0.3411\n",
            "Mean Loss : 0.3414\n",
            "Mean Loss : 0.3416\n",
            "Mean Loss : 0.3425\n",
            "Mean Loss : 0.3427\n",
            "Mean Loss : 0.3420\n",
            "Step : 230, Avg Loss : 0.4207\n",
            "Mean Loss : 0.3421\n",
            "Mean Loss : 0.3419\n",
            "Mean Loss : 0.3413\n",
            "Mean Loss : 0.3412\n",
            "Mean Loss : 0.3407\n",
            "Mean Loss : 0.3406\n",
            "Mean Loss : 0.3403\n",
            "Mean Loss : 0.3399\n",
            "Mean Loss : 0.3398\n",
            "Mean Loss : 0.3397\n",
            "Step : 240, Avg Loss : 0.2903\n",
            "Mean Loss : 0.3400\n",
            "Mean Loss : 0.3400\n",
            "Mean Loss : 0.3399\n",
            "Mean Loss : 0.3395\n",
            "Mean Loss : 0.3395\n",
            "Mean Loss : 0.3388\n",
            "Mean Loss : 0.3390\n",
            "Mean Loss : 0.3386\n",
            "Mean Loss : 0.3386\n",
            "Mean Loss : 0.3387\n",
            "Step : 250, Avg Loss : 0.2963\n",
            "Mean Loss : 0.3382\n",
            "Mean Loss : 0.3380\n",
            "Mean Loss : 0.3383\n",
            "Mean Loss : 0.3381\n",
            "Mean Loss : 0.3383\n",
            "Mean Loss : 0.3378\n",
            "Mean Loss : 0.3381\n",
            "Mean Loss : 0.3379\n",
            "Mean Loss : 0.3371\n",
            "Mean Loss : 0.3367\n",
            "Step : 260, Avg Loss : 0.3298\n",
            "Mean Loss : 0.3379\n",
            "Mean Loss : 0.3379\n",
            "Mean Loss : 0.3375\n",
            "Mean Loss : 0.3379\n",
            "Mean Loss : 0.3383\n",
            "Mean Loss : 0.3379\n",
            "Mean Loss : 0.3381\n",
            "Mean Loss : 0.3382\n",
            "Mean Loss : 0.3380\n",
            "Mean Loss : 0.3382\n",
            "Step : 270, Avg Loss : 0.3355\n",
            "Mean Loss : 0.3378\n",
            "Mean Loss : 0.3379\n",
            "Mean Loss : 0.3375\n",
            "Mean Loss : 0.3370\n",
            "Mean Loss : 0.3368\n",
            "Mean Loss : 0.3366\n",
            "Mean Loss : 0.3362\n",
            "Mean Loss : 0.3363\n",
            "Mean Loss : 0.3360\n",
            "Mean Loss : 0.3357\n",
            "Step : 280, Avg Loss : 0.2656\n",
            "Mean Loss : 0.3352\n",
            "Mean Loss : 0.3369\n",
            "Train Finished\n"
          ]
        }
      ]
    }
  ],
  "metadata": {
    "accelerator": "GPU",
    "colab": {
      "collapsed_sections": [],
      "name": "7팀_김태호 - Week2_3_assignment.ipynb",
      "provenance": []
    },
    "kernelspec": {
      "display_name": "torch",
      "language": "python",
      "name": "torch"
    },
    "language_info": {
      "codemirror_mode": {
        "name": "ipython",
        "version": 3
      },
      "file_extension": ".py",
      "mimetype": "text/x-python",
      "name": "python",
      "nbconvert_exporter": "python",
      "pygments_lexer": "ipython3",
      "version": "3.8.11"
    }
  },
  "nbformat": 4,
  "nbformat_minor": 0
}